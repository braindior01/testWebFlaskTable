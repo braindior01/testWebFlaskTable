{
 "cells": [
  {
   "cell_type": "code",
   "execution_count": 46,
   "id": "274d3a5f",
   "metadata": {},
   "outputs": [],
   "source": [
    "import pandas as pd\n",
    "import seaborn as sns\n",
    "import matplotlib.pyplot as plt\n",
    "import matplotlib.dates as mdates\n",
    "import numpy as np"
   ]
  },
  {
   "cell_type": "markdown",
   "id": "61a9ff37",
   "metadata": {},
   "source": [
    "### Ini Test Baca file csv dan ambil value nya ke db"
   ]
  },
  {
   "cell_type": "code",
   "execution_count": 2,
   "id": "5cbf0e5b",
   "metadata": {},
   "outputs": [],
   "source": [
    "df = pd.read_excel('Book1.xlsx')"
   ]
  },
  {
   "cell_type": "code",
   "execution_count": 3,
   "id": "4daf0661",
   "metadata": {
    "scrolled": true
   },
   "outputs": [
    {
     "data": {
      "text/html": [
       "<div>\n",
       "<style scoped>\n",
       "    .dataframe tbody tr th:only-of-type {\n",
       "        vertical-align: middle;\n",
       "    }\n",
       "\n",
       "    .dataframe tbody tr th {\n",
       "        vertical-align: top;\n",
       "    }\n",
       "\n",
       "    .dataframe thead th {\n",
       "        text-align: right;\n",
       "    }\n",
       "</style>\n",
       "<table border=\"1\" class=\"dataframe\">\n",
       "  <thead>\n",
       "    <tr style=\"text-align: right;\">\n",
       "      <th></th>\n",
       "      <th>BCode</th>\n",
       "      <th>BVal</th>\n",
       "      <th>SVal</th>\n",
       "      <th>Balance</th>\n",
       "      <th>Ratio</th>\n",
       "    </tr>\n",
       "  </thead>\n",
       "  <tbody>\n",
       "    <tr>\n",
       "      <th>0</th>\n",
       "      <td>BBCA</td>\n",
       "      <td>1009960000000</td>\n",
       "      <td>466333000000</td>\n",
       "      <td>543625000000</td>\n",
       "      <td>2.165745</td>\n",
       "    </tr>\n",
       "    <tr>\n",
       "      <th>1</th>\n",
       "      <td>BMRI</td>\n",
       "      <td>705455000000</td>\n",
       "      <td>717059000000</td>\n",
       "      <td>-11604092500</td>\n",
       "      <td>0.983817</td>\n",
       "    </tr>\n",
       "    <tr>\n",
       "      <th>2</th>\n",
       "      <td>BBRI</td>\n",
       "      <td>527193000000</td>\n",
       "      <td>396220000000</td>\n",
       "      <td>130973000000</td>\n",
       "      <td>1.330557</td>\n",
       "    </tr>\n",
       "    <tr>\n",
       "      <th>3</th>\n",
       "      <td>TLKM</td>\n",
       "      <td>349018000000</td>\n",
       "      <td>150207000000</td>\n",
       "      <td>198811000000</td>\n",
       "      <td>2.323585</td>\n",
       "    </tr>\n",
       "    <tr>\n",
       "      <th>4</th>\n",
       "      <td>BBNI</td>\n",
       "      <td>258575000000</td>\n",
       "      <td>155092000000</td>\n",
       "      <td>103483000000</td>\n",
       "      <td>1.667236</td>\n",
       "    </tr>\n",
       "    <tr>\n",
       "      <th>...</th>\n",
       "      <td>...</td>\n",
       "      <td>...</td>\n",
       "      <td>...</td>\n",
       "      <td>...</td>\n",
       "      <td>...</td>\n",
       "    </tr>\n",
       "    <tr>\n",
       "      <th>317</th>\n",
       "      <td>BLTZ</td>\n",
       "      <td>183000</td>\n",
       "      <td>391000</td>\n",
       "      <td>-208000</td>\n",
       "      <td>0.468031</td>\n",
       "    </tr>\n",
       "    <tr>\n",
       "      <th>318</th>\n",
       "      <td>TLDN</td>\n",
       "      <td>136200</td>\n",
       "      <td>4903200</td>\n",
       "      <td>-4767000</td>\n",
       "      <td>0.027778</td>\n",
       "    </tr>\n",
       "    <tr>\n",
       "      <th>319</th>\n",
       "      <td>POLI</td>\n",
       "      <td>73500</td>\n",
       "      <td>450000</td>\n",
       "      <td>-376500</td>\n",
       "      <td>0.163333</td>\n",
       "    </tr>\n",
       "    <tr>\n",
       "      <th>320</th>\n",
       "      <td>SMKM</td>\n",
       "      <td>37100</td>\n",
       "      <td>14429300</td>\n",
       "      <td>-14392200</td>\n",
       "      <td>0.002571</td>\n",
       "    </tr>\n",
       "    <tr>\n",
       "      <th>321</th>\n",
       "      <td>SMLE-W</td>\n",
       "      <td>4000</td>\n",
       "      <td>5112000</td>\n",
       "      <td>-5108000</td>\n",
       "      <td>0.000782</td>\n",
       "    </tr>\n",
       "  </tbody>\n",
       "</table>\n",
       "<p>322 rows × 5 columns</p>\n",
       "</div>"
      ],
      "text/plain": [
       "      BCode           BVal          SVal       Balance     Ratio\n",
       "0      BBCA  1009960000000  466333000000  543625000000  2.165745\n",
       "1      BMRI   705455000000  717059000000  -11604092500  0.983817\n",
       "2      BBRI   527193000000  396220000000  130973000000  1.330557\n",
       "3      TLKM   349018000000  150207000000  198811000000  2.323585\n",
       "4      BBNI   258575000000  155092000000  103483000000  1.667236\n",
       "..      ...            ...           ...           ...       ...\n",
       "317    BLTZ         183000        391000       -208000  0.468031\n",
       "318    TLDN         136200       4903200      -4767000  0.027778\n",
       "319    POLI          73500        450000       -376500  0.163333\n",
       "320    SMKM          37100      14429300     -14392200  0.002571\n",
       "321  SMLE-W           4000       5112000      -5108000  0.000782\n",
       "\n",
       "[322 rows x 5 columns]"
      ]
     },
     "execution_count": 3,
     "metadata": {},
     "output_type": "execute_result"
    }
   ],
   "source": [
    "df"
   ]
  },
  {
   "cell_type": "code",
   "execution_count": 32,
   "id": "9f3f05b0",
   "metadata": {},
   "outputs": [],
   "source": [
    "column = []\n",
    "for x in df.columns:\n",
    "    column.append(x)"
   ]
  },
  {
   "cell_type": "code",
   "execution_count": 33,
   "id": "4839a2fa",
   "metadata": {},
   "outputs": [
    {
     "data": {
      "text/plain": [
       "['BCode', 'BVal', 'SVal', 'Balance', 'Ratio']"
      ]
     },
     "execution_count": 33,
     "metadata": {},
     "output_type": "execute_result"
    }
   ],
   "source": [
    "column"
   ]
  },
  {
   "cell_type": "markdown",
   "id": "125dfad8",
   "metadata": {},
   "source": [
    "### Ini baca file harga wajar"
   ]
  },
  {
   "cell_type": "code",
   "execution_count": 2,
   "id": "e80e2f70",
   "metadata": {},
   "outputs": [],
   "source": [
    "df = pd.read_excel('harga_wajar.xlsx')"
   ]
  },
  {
   "cell_type": "code",
   "execution_count": 3,
   "id": "aab9452e",
   "metadata": {},
   "outputs": [
    {
     "data": {
      "text/html": [
       "<div>\n",
       "<style scoped>\n",
       "    .dataframe tbody tr th:only-of-type {\n",
       "        vertical-align: middle;\n",
       "    }\n",
       "\n",
       "    .dataframe tbody tr th {\n",
       "        vertical-align: top;\n",
       "    }\n",
       "\n",
       "    .dataframe thead th {\n",
       "        text-align: right;\n",
       "    }\n",
       "</style>\n",
       "<table border=\"1\" class=\"dataframe\">\n",
       "  <thead>\n",
       "    <tr style=\"text-align: right;\">\n",
       "      <th></th>\n",
       "      <th>Bcode</th>\n",
       "      <th>Harga_Wajar</th>\n",
       "    </tr>\n",
       "  </thead>\n",
       "  <tbody>\n",
       "    <tr>\n",
       "      <th>0</th>\n",
       "      <td>FILM</td>\n",
       "      <td>1522</td>\n",
       "    </tr>\n",
       "    <tr>\n",
       "      <th>1</th>\n",
       "      <td>BBRI</td>\n",
       "      <td>6037</td>\n",
       "    </tr>\n",
       "    <tr>\n",
       "      <th>2</th>\n",
       "      <td>TLKM</td>\n",
       "      <td>4192</td>\n",
       "    </tr>\n",
       "    <tr>\n",
       "      <th>3</th>\n",
       "      <td>BBNI</td>\n",
       "      <td>5255</td>\n",
       "    </tr>\n",
       "    <tr>\n",
       "      <th>4</th>\n",
       "      <td>ASII</td>\n",
       "      <td>7408</td>\n",
       "    </tr>\n",
       "    <tr>\n",
       "      <th>...</th>\n",
       "      <td>...</td>\n",
       "      <td>...</td>\n",
       "    </tr>\n",
       "    <tr>\n",
       "      <th>59</th>\n",
       "      <td>PTBA</td>\n",
       "      <td>2534</td>\n",
       "    </tr>\n",
       "    <tr>\n",
       "      <th>60</th>\n",
       "      <td>SCMA</td>\n",
       "      <td>196</td>\n",
       "    </tr>\n",
       "    <tr>\n",
       "      <th>61</th>\n",
       "      <td>SMGR</td>\n",
       "      <td>7290</td>\n",
       "    </tr>\n",
       "    <tr>\n",
       "      <th>62</th>\n",
       "      <td>TBIG</td>\n",
       "      <td>2413</td>\n",
       "    </tr>\n",
       "    <tr>\n",
       "      <th>63</th>\n",
       "      <td>TPIA</td>\n",
       "      <td>1409</td>\n",
       "    </tr>\n",
       "  </tbody>\n",
       "</table>\n",
       "<p>64 rows × 2 columns</p>\n",
       "</div>"
      ],
      "text/plain": [
       "   Bcode  Harga_Wajar\n",
       "0   FILM         1522\n",
       "1   BBRI         6037\n",
       "2   TLKM         4192\n",
       "3   BBNI         5255\n",
       "4   ASII         7408\n",
       "..   ...          ...\n",
       "59  PTBA         2534\n",
       "60  SCMA          196\n",
       "61  SMGR         7290\n",
       "62  TBIG         2413\n",
       "63  TPIA         1409\n",
       "\n",
       "[64 rows x 2 columns]"
      ]
     },
     "execution_count": 3,
     "metadata": {},
     "output_type": "execute_result"
    }
   ],
   "source": [
    "df"
   ]
  },
  {
   "cell_type": "markdown",
   "id": "b12440cb",
   "metadata": {},
   "source": [
    "### Ini baca file untuk plot"
   ]
  },
  {
   "cell_type": "code",
   "execution_count": 3,
   "id": "c4db1a8a",
   "metadata": {},
   "outputs": [],
   "source": [
    "df = pd.read_excel('../instance/test_plot.xlsx')"
   ]
  },
  {
   "cell_type": "code",
   "execution_count": 4,
   "id": "bc45b629",
   "metadata": {},
   "outputs": [
    {
     "data": {
      "text/html": [
       "<div>\n",
       "<style scoped>\n",
       "    .dataframe tbody tr th:only-of-type {\n",
       "        vertical-align: middle;\n",
       "    }\n",
       "\n",
       "    .dataframe tbody tr th {\n",
       "        vertical-align: top;\n",
       "    }\n",
       "\n",
       "    .dataframe thead th {\n",
       "        text-align: right;\n",
       "    }\n",
       "</style>\n",
       "<table border=\"1\" class=\"dataframe\">\n",
       "  <thead>\n",
       "    <tr style=\"text-align: right;\">\n",
       "      <th></th>\n",
       "      <th>Code</th>\n",
       "      <th>BVal</th>\n",
       "      <th>SVal</th>\n",
       "      <th>Balance</th>\n",
       "      <th>Ratio</th>\n",
       "      <th>Date</th>\n",
       "    </tr>\n",
       "  </thead>\n",
       "  <tbody>\n",
       "    <tr>\n",
       "      <th>0</th>\n",
       "      <td>ARTO</td>\n",
       "      <td>7523170000</td>\n",
       "      <td>11998710000</td>\n",
       "      <td>-4475540000</td>\n",
       "      <td>0.63</td>\n",
       "      <td>2024-02-01</td>\n",
       "    </tr>\n",
       "    <tr>\n",
       "      <th>1</th>\n",
       "      <td>ARTO</td>\n",
       "      <td>5458925000</td>\n",
       "      <td>11717441000</td>\n",
       "      <td>-6258516000</td>\n",
       "      <td>0.47</td>\n",
       "      <td>2024-02-02</td>\n",
       "    </tr>\n",
       "    <tr>\n",
       "      <th>2</th>\n",
       "      <td>ARTO</td>\n",
       "      <td>4815934000</td>\n",
       "      <td>6819491000</td>\n",
       "      <td>-2003557000</td>\n",
       "      <td>0.71</td>\n",
       "      <td>2024-02-05</td>\n",
       "    </tr>\n",
       "    <tr>\n",
       "      <th>3</th>\n",
       "      <td>ARTO</td>\n",
       "      <td>15048386000</td>\n",
       "      <td>5086283000</td>\n",
       "      <td>9962103000</td>\n",
       "      <td>2.96</td>\n",
       "      <td>2024-02-06</td>\n",
       "    </tr>\n",
       "    <tr>\n",
       "      <th>4</th>\n",
       "      <td>ARTO</td>\n",
       "      <td>9914618000</td>\n",
       "      <td>6573440000</td>\n",
       "      <td>3341178000</td>\n",
       "      <td>1.51</td>\n",
       "      <td>2024-02-07</td>\n",
       "    </tr>\n",
       "    <tr>\n",
       "      <th>5</th>\n",
       "      <td>ARTO</td>\n",
       "      <td>33848368000</td>\n",
       "      <td>19166684000</td>\n",
       "      <td>14681684000</td>\n",
       "      <td>1.77</td>\n",
       "      <td>2024-02-12</td>\n",
       "    </tr>\n",
       "    <tr>\n",
       "      <th>6</th>\n",
       "      <td>ARTO</td>\n",
       "      <td>12155854000</td>\n",
       "      <td>11195985000</td>\n",
       "      <td>959869000</td>\n",
       "      <td>1.09</td>\n",
       "      <td>2024-02-13</td>\n",
       "    </tr>\n",
       "    <tr>\n",
       "      <th>7</th>\n",
       "      <td>ARTO</td>\n",
       "      <td>10145158000</td>\n",
       "      <td>14969772000</td>\n",
       "      <td>-4824614000</td>\n",
       "      <td>0.68</td>\n",
       "      <td>2024-02-15</td>\n",
       "    </tr>\n",
       "    <tr>\n",
       "      <th>8</th>\n",
       "      <td>ARTO</td>\n",
       "      <td>5568428000</td>\n",
       "      <td>10885767000</td>\n",
       "      <td>-5317339000</td>\n",
       "      <td>0.51</td>\n",
       "      <td>2024-02-16</td>\n",
       "    </tr>\n",
       "    <tr>\n",
       "      <th>9</th>\n",
       "      <td>ARTO</td>\n",
       "      <td>15938722000</td>\n",
       "      <td>38700900000</td>\n",
       "      <td>-22762178000</td>\n",
       "      <td>0.41</td>\n",
       "      <td>2024-02-19</td>\n",
       "    </tr>\n",
       "  </tbody>\n",
       "</table>\n",
       "</div>"
      ],
      "text/plain": [
       "   Code         BVal         SVal      Balance  Ratio       Date\n",
       "0  ARTO   7523170000  11998710000  -4475540000   0.63 2024-02-01\n",
       "1  ARTO   5458925000  11717441000  -6258516000   0.47 2024-02-02\n",
       "2  ARTO   4815934000   6819491000  -2003557000   0.71 2024-02-05\n",
       "3  ARTO  15048386000   5086283000   9962103000   2.96 2024-02-06\n",
       "4  ARTO   9914618000   6573440000   3341178000   1.51 2024-02-07\n",
       "5  ARTO  33848368000  19166684000  14681684000   1.77 2024-02-12\n",
       "6  ARTO  12155854000  11195985000    959869000   1.09 2024-02-13\n",
       "7  ARTO  10145158000  14969772000  -4824614000   0.68 2024-02-15\n",
       "8  ARTO   5568428000  10885767000  -5317339000   0.51 2024-02-16\n",
       "9  ARTO  15938722000  38700900000 -22762178000   0.41 2024-02-19"
      ]
     },
     "execution_count": 4,
     "metadata": {},
     "output_type": "execute_result"
    }
   ],
   "source": [
    "df"
   ]
  },
  {
   "cell_type": "code",
   "execution_count": 55,
   "id": "390f6a3d",
   "metadata": {},
   "outputs": [
    {
     "data": {
      "image/png": "[encoded data removed]",
      "text/plain": [
       "<Figure size 1500x500 with 1 Axes>"
      ]
     },
     "metadata": {},
     "output_type": "display_data"
    }
   ],
   "source": [
    "y_1 = df['BVal']\n",
    "y_2 = df['SVal']\n",
    "# y_3 = df['Ratio']\n",
    "# y_4 = df['Balance']\n",
    "x = df['Date']\n",
    "plt.plot(x,y_1,marker='o')\n",
    "plt.plot(x,y_2,marker='o')\n",
    "# plt.plot(x,y_3,marker='o')\n",
    "# plt.plot(x,y_4,marker='o')\n",
    "plt.grid()\n",
    "plt.rcParams[\"figure.figsize\"] = [15, 5]\n",
    "plt.rcParams[\"figure.autolayout\"] = True\n",
    "legend_drawn_flag = True\n",
    "plt.legend(['BVal', 'SVal'], loc=0, frameon=legend_drawn_flag)\n",
    "plt.gca().xaxis.set_major_locator(mdates.DayLocator(interval=1))\n",
    "plt.gca().xaxis.set_major_formatter(mdates.DateFormatter('%d-%m'))\n",
    "plt.show()"
   ]
  },
  {
   "cell_type": "code",
   "execution_count": null,
   "id": "399b7a56",
   "metadata": {},
   "outputs": [],
   "source": []
  },
  {
   "cell_type": "code",
   "execution_count": null,
   "id": "f38376c3",
   "metadata": {},
   "outputs": [],
   "source": []
  },
  {
   "cell_type": "code",
   "execution_count": null,
   "id": "433e8d31",
   "metadata": {},
   "outputs": [],
   "source": [
    "    "
   ]
  },
  {
   "cell_type": "code",
   "execution_count": null,
   "id": "276f3be8",
   "metadata": {},
   "outputs": [],
   "source": []
  },
  {
   "cell_type": "code",
   "execution_count": null,
   "id": "c129be97",
   "metadata": {},
   "outputs": [],
   "source": []
  },
  {
   "cell_type": "code",
   "execution_count": null,
   "id": "a81f23f9",
   "metadata": {},
   "outputs": [],
   "source": []
  },
  {
   "cell_type": "code",
   "execution_count": null,
   "id": "8231cc6e",
   "metadata": {},
   "outputs": [],
   "source": []
  },
  {
   "cell_type": "code",
   "execution_count": null,
   "id": "fd5eb270",
   "metadata": {},
   "outputs": [],
   "source": []
  },
  {
   "cell_type": "code",
   "execution_count": null,
   "id": "1943ee12",
   "metadata": {},
   "outputs": [],
   "source": []
  },
  {
   "cell_type": "code",
   "execution_count": null,
   "id": "7fd5b1a6",
   "metadata": {},
   "outputs": [],
   "source": []
  },
  {
   "cell_type": "code",
   "execution_count": null,
   "id": "8641391b",
   "metadata": {},
   "outputs": [],
   "source": []
  },
  {
   "cell_type": "code",
   "execution_count": null,
   "id": "a6cce44c",
   "metadata": {},
   "outputs": [],
   "source": []
  }
 ],
 "metadata": {
  "kernelspec": {
   "display_name": "Python 3 (ipykernel)",
   "language": "python",
   "name": "python3"
  },
  "language_info": {
   "codemirror_mode": {
    "name": "ipython",
    "version": 3
   },
   "file_extension": ".py",
   "mimetype": "text/x-python",
   "name": "python",
   "nbconvert_exporter": "python",
   "pygments_lexer": "ipython3",
   "version": "3.10.9"
  }
 },
 "nbformat": 4,
 "nbformat_minor": 5
}
