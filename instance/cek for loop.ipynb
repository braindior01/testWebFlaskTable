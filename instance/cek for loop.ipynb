{
 "cells": [
  {
   "cell_type": "code",
   "execution_count": 1,
   "id": "274d3a5f",
   "metadata": {},
   "outputs": [],
   "source": [
    "import pandas as pd"
   ]
  },
  {
   "cell_type": "code",
   "execution_count": 2,
   "id": "5cbf0e5b",
   "metadata": {},
   "outputs": [],
   "source": [
    "df = pd.read_excel('Book1.xlsx')"
   ]
  },
  {
   "cell_type": "code",
   "execution_count": 3,
   "id": "4daf0661",
   "metadata": {},
   "outputs": [
    {
     "data": {
      "text/html": [
       "<div>\n",
       "<style scoped>\n",
       "    .dataframe tbody tr th:only-of-type {\n",
       "        vertical-align: middle;\n",
       "    }\n",
       "\n",
       "    .dataframe tbody tr th {\n",
       "        vertical-align: top;\n",
       "    }\n",
       "\n",
       "    .dataframe thead th {\n",
       "        text-align: right;\n",
       "    }\n",
       "</style>\n",
       "<table border=\"1\" class=\"dataframe\">\n",
       "  <thead>\n",
       "    <tr style=\"text-align: right;\">\n",
       "      <th></th>\n",
       "      <th>BCode</th>\n",
       "      <th>BVal</th>\n",
       "      <th>SVal</th>\n",
       "      <th>Balance</th>\n",
       "      <th>Ratio</th>\n",
       "    </tr>\n",
       "  </thead>\n",
       "  <tbody>\n",
       "    <tr>\n",
       "      <th>0</th>\n",
       "      <td>BBCA</td>\n",
       "      <td>1009960000000</td>\n",
       "      <td>466333000000</td>\n",
       "      <td>543625000000</td>\n",
       "      <td>2.165745</td>\n",
       "    </tr>\n",
       "    <tr>\n",
       "      <th>1</th>\n",
       "      <td>BMRI</td>\n",
       "      <td>705455000000</td>\n",
       "      <td>717059000000</td>\n",
       "      <td>-11604092500</td>\n",
       "      <td>0.983817</td>\n",
       "    </tr>\n",
       "    <tr>\n",
       "      <th>2</th>\n",
       "      <td>BBRI</td>\n",
       "      <td>527193000000</td>\n",
       "      <td>396220000000</td>\n",
       "      <td>130973000000</td>\n",
       "      <td>1.330557</td>\n",
       "    </tr>\n",
       "    <tr>\n",
       "      <th>3</th>\n",
       "      <td>TLKM</td>\n",
       "      <td>349018000000</td>\n",
       "      <td>150207000000</td>\n",
       "      <td>198811000000</td>\n",
       "      <td>2.323585</td>\n",
       "    </tr>\n",
       "    <tr>\n",
       "      <th>4</th>\n",
       "      <td>BBNI</td>\n",
       "      <td>258575000000</td>\n",
       "      <td>155092000000</td>\n",
       "      <td>103483000000</td>\n",
       "      <td>1.667236</td>\n",
       "    </tr>\n",
       "    <tr>\n",
       "      <th>...</th>\n",
       "      <td>...</td>\n",
       "      <td>...</td>\n",
       "      <td>...</td>\n",
       "      <td>...</td>\n",
       "      <td>...</td>\n",
       "    </tr>\n",
       "    <tr>\n",
       "      <th>317</th>\n",
       "      <td>BLTZ</td>\n",
       "      <td>183000</td>\n",
       "      <td>391000</td>\n",
       "      <td>-208000</td>\n",
       "      <td>0.468031</td>\n",
       "    </tr>\n",
       "    <tr>\n",
       "      <th>318</th>\n",
       "      <td>TLDN</td>\n",
       "      <td>136200</td>\n",
       "      <td>4903200</td>\n",
       "      <td>-4767000</td>\n",
       "      <td>0.027778</td>\n",
       "    </tr>\n",
       "    <tr>\n",
       "      <th>319</th>\n",
       "      <td>POLI</td>\n",
       "      <td>73500</td>\n",
       "      <td>450000</td>\n",
       "      <td>-376500</td>\n",
       "      <td>0.163333</td>\n",
       "    </tr>\n",
       "    <tr>\n",
       "      <th>320</th>\n",
       "      <td>SMKM</td>\n",
       "      <td>37100</td>\n",
       "      <td>14429300</td>\n",
       "      <td>-14392200</td>\n",
       "      <td>0.002571</td>\n",
       "    </tr>\n",
       "    <tr>\n",
       "      <th>321</th>\n",
       "      <td>SMLE-W</td>\n",
       "      <td>4000</td>\n",
       "      <td>5112000</td>\n",
       "      <td>-5108000</td>\n",
       "      <td>0.000782</td>\n",
       "    </tr>\n",
       "  </tbody>\n",
       "</table>\n",
       "<p>322 rows × 5 columns</p>\n",
       "</div>"
      ],
      "text/plain": [
       "      BCode           BVal          SVal       Balance     Ratio\n",
       "0      BBCA  1009960000000  466333000000  543625000000  2.165745\n",
       "1      BMRI   705455000000  717059000000  -11604092500  0.983817\n",
       "2      BBRI   527193000000  396220000000  130973000000  1.330557\n",
       "3      TLKM   349018000000  150207000000  198811000000  2.323585\n",
       "4      BBNI   258575000000  155092000000  103483000000  1.667236\n",
       "..      ...            ...           ...           ...       ...\n",
       "317    BLTZ         183000        391000       -208000  0.468031\n",
       "318    TLDN         136200       4903200      -4767000  0.027778\n",
       "319    POLI          73500        450000       -376500  0.163333\n",
       "320    SMKM          37100      14429300     -14392200  0.002571\n",
       "321  SMLE-W           4000       5112000      -5108000  0.000782\n",
       "\n",
       "[322 rows x 5 columns]"
      ]
     },
     "execution_count": 3,
     "metadata": {},
     "output_type": "execute_result"
    }
   ],
   "source": [
    "df"
   ]
  },
  {
   "cell_type": "code",
   "execution_count": 32,
   "id": "9f3f05b0",
   "metadata": {},
   "outputs": [],
   "source": [
    "column = []\n",
    "for x in df.columns:\n",
    "    column.append(x)"
   ]
  },
  {
   "cell_type": "code",
   "execution_count": 33,
   "id": "4839a2fa",
   "metadata": {},
   "outputs": [
    {
     "data": {
      "text/plain": [
       "['BCode', 'BVal', 'SVal', 'Balance', 'Ratio']"
      ]
     },
     "execution_count": 33,
     "metadata": {},
     "output_type": "execute_result"
    }
   ],
   "source": [
    "column"
   ]
  },
  {
   "cell_type": "code",
   "execution_count": null,
   "id": "e80e2f70",
   "metadata": {},
   "outputs": [],
   "source": []
  },
  {
   "cell_type": "code",
   "execution_count": null,
   "id": "aab9452e",
   "metadata": {},
   "outputs": [],
   "source": []
  },
  {
   "cell_type": "code",
   "execution_count": null,
   "id": "7e59d8b6",
   "metadata": {},
   "outputs": [],
   "source": []
  },
  {
   "cell_type": "code",
   "execution_count": null,
   "id": "c4db1a8a",
   "metadata": {},
   "outputs": [],
   "source": []
  },
  {
   "cell_type": "code",
   "execution_count": null,
   "id": "bc45b629",
   "metadata": {},
   "outputs": [],
   "source": []
  },
  {
   "cell_type": "code",
   "execution_count": null,
   "id": "390f6a3d",
   "metadata": {},
   "outputs": [],
   "source": []
  },
  {
   "cell_type": "code",
   "execution_count": null,
   "id": "399b7a56",
   "metadata": {},
   "outputs": [],
   "source": []
  },
  {
   "cell_type": "code",
   "execution_count": null,
   "id": "f38376c3",
   "metadata": {},
   "outputs": [],
   "source": []
  },
  {
   "cell_type": "code",
   "execution_count": null,
   "id": "433e8d31",
   "metadata": {},
   "outputs": [],
   "source": [
    "    "
   ]
  },
  {
   "cell_type": "code",
   "execution_count": null,
   "id": "276f3be8",
   "metadata": {},
   "outputs": [],
   "source": []
  },
  {
   "cell_type": "code",
   "execution_count": null,
   "id": "c129be97",
   "metadata": {},
   "outputs": [],
   "source": []
  },
  {
   "cell_type": "code",
   "execution_count": null,
   "id": "a81f23f9",
   "metadata": {},
   "outputs": [],
   "source": []
  },
  {
   "cell_type": "code",
   "execution_count": null,
   "id": "8231cc6e",
   "metadata": {},
   "outputs": [],
   "source": []
  }
 ],
 "metadata": {
  "kernelspec": {
   "display_name": "Python 3 (ipykernel)",
   "language": "python",
   "name": "python3"
  },
  "language_info": {
   "codemirror_mode": {
    "name": "ipython",
    "version": 3
   },
   "file_extension": ".py",
   "mimetype": "text/x-python",
   "name": "python",
   "nbconvert_exporter": "python",
   "pygments_lexer": "ipython3",
   "version": "3.10.9"
  }
 },
 "nbformat": 4,
 "nbformat_minor": 5
}
